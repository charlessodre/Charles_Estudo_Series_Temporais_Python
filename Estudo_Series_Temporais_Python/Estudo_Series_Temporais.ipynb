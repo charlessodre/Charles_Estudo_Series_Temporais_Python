{
 "cells": [
  {
   "cell_type": "markdown",
   "metadata": {},
   "source": [
    "# Estudo de Séries Temporais com Python\n",
    " - O objetivo deste notebook é o estudo de algumas funções para o tratamento de Séries Temporais."
   ]
  },
  {
   "cell_type": "code",
   "execution_count": 1,
   "metadata": {},
   "outputs": [],
   "source": [
    "# Carregando bibliotecas iniciais\n",
    "import pandas as pd \n",
    "import warnings\n",
    "import numpy as np\n",
    "import matplotlib.pyplot as plt\n",
    "from pandas.plotting import register_matplotlib_converters\n",
    "\n",
    "register_matplotlib_converters()"
   ]
  },
  {
   "cell_type": "markdown",
   "metadata": {},
   "source": [
    "# Carregando os dados"
   ]
  },
  {
   "cell_type": "code",
   "execution_count": 2,
   "metadata": {},
   "outputs": [],
   "source": [
    "# Importando os dados.\n",
    "df_AirPassengers = pd.read_csv('./base_dados/AirPassengers.csv')"
   ]
  },
  {
   "cell_type": "code",
   "execution_count": 3,
   "metadata": {},
   "outputs": [
    {
     "data": {
      "text/html": [
       "<div>\n",
       "<style scoped>\n",
       "    .dataframe tbody tr th:only-of-type {\n",
       "        vertical-align: middle;\n",
       "    }\n",
       "\n",
       "    .dataframe tbody tr th {\n",
       "        vertical-align: top;\n",
       "    }\n",
       "\n",
       "    .dataframe thead th {\n",
       "        text-align: right;\n",
       "    }\n",
       "</style>\n",
       "<table border=\"1\" class=\"dataframe\">\n",
       "  <thead>\n",
       "    <tr style=\"text-align: right;\">\n",
       "      <th></th>\n",
       "      <th>Month</th>\n",
       "      <th>#Passengers</th>\n",
       "    </tr>\n",
       "  </thead>\n",
       "  <tbody>\n",
       "    <tr>\n",
       "      <th>0</th>\n",
       "      <td>1949-01</td>\n",
       "      <td>112</td>\n",
       "    </tr>\n",
       "    <tr>\n",
       "      <th>1</th>\n",
       "      <td>1949-02</td>\n",
       "      <td>118</td>\n",
       "    </tr>\n",
       "    <tr>\n",
       "      <th>2</th>\n",
       "      <td>1949-03</td>\n",
       "      <td>132</td>\n",
       "    </tr>\n",
       "    <tr>\n",
       "      <th>3</th>\n",
       "      <td>1949-04</td>\n",
       "      <td>129</td>\n",
       "    </tr>\n",
       "    <tr>\n",
       "      <th>4</th>\n",
       "      <td>1949-05</td>\n",
       "      <td>121</td>\n",
       "    </tr>\n",
       "  </tbody>\n",
       "</table>\n",
       "</div>"
      ],
      "text/plain": [
       "     Month  #Passengers\n",
       "0  1949-01          112\n",
       "1  1949-02          118\n",
       "2  1949-03          132\n",
       "3  1949-04          129\n",
       "4  1949-05          121"
      ]
     },
     "execution_count": 3,
     "metadata": {},
     "output_type": "execute_result"
    }
   ],
   "source": [
    "# Olhando as primeiras linhas \n",
    "df_AirPassengers.head()"
   ]
  },
  {
   "cell_type": "code",
   "execution_count": 4,
   "metadata": {},
   "outputs": [
    {
     "data": {
      "text/plain": [
       "(144, 2)"
      ]
     },
     "execution_count": 4,
     "metadata": {},
     "output_type": "execute_result"
    }
   ],
   "source": [
    "# Shape do dataset original\n",
    "df_AirPassengers.shape"
   ]
  },
  {
   "cell_type": "code",
   "execution_count": 5,
   "metadata": {},
   "outputs": [
    {
     "data": {
      "text/plain": [
       "Month          144\n",
       "#Passengers    118\n",
       "dtype: int64"
      ]
     },
     "execution_count": 5,
     "metadata": {},
     "output_type": "execute_result"
    }
   ],
   "source": [
    "# Olhando os valores únicos\n",
    "df_AirPassengers.nunique()"
   ]
  },
  {
   "cell_type": "code",
   "execution_count": 6,
   "metadata": {},
   "outputs": [
    {
     "name": "stdout",
     "output_type": "stream",
     "text": [
      "<class 'pandas.core.frame.DataFrame'>\n",
      "RangeIndex: 144 entries, 0 to 143\n",
      "Data columns (total 2 columns):\n",
      "Month          144 non-null object\n",
      "#Passengers    144 non-null int64\n",
      "dtypes: int64(1), object(1)\n",
      "memory usage: 2.3+ KB\n"
     ]
    }
   ],
   "source": [
    "# Verificando os tipos dos dados e formato dos dados\n",
    "df_AirPassengers.info()"
   ]
  },
  {
   "cell_type": "code",
   "execution_count": 7,
   "metadata": {},
   "outputs": [
    {
     "data": {
      "text/html": [
       "<div>\n",
       "<style scoped>\n",
       "    .dataframe tbody tr th:only-of-type {\n",
       "        vertical-align: middle;\n",
       "    }\n",
       "\n",
       "    .dataframe tbody tr th {\n",
       "        vertical-align: top;\n",
       "    }\n",
       "\n",
       "    .dataframe thead th {\n",
       "        text-align: right;\n",
       "    }\n",
       "</style>\n",
       "<table border=\"1\" class=\"dataframe\">\n",
       "  <thead>\n",
       "    <tr style=\"text-align: right;\">\n",
       "      <th></th>\n",
       "      <th>#Passengers</th>\n",
       "    </tr>\n",
       "  </thead>\n",
       "  <tbody>\n",
       "    <tr>\n",
       "      <th>count</th>\n",
       "      <td>144.000000</td>\n",
       "    </tr>\n",
       "    <tr>\n",
       "      <th>mean</th>\n",
       "      <td>280.298611</td>\n",
       "    </tr>\n",
       "    <tr>\n",
       "      <th>std</th>\n",
       "      <td>119.966317</td>\n",
       "    </tr>\n",
       "    <tr>\n",
       "      <th>min</th>\n",
       "      <td>104.000000</td>\n",
       "    </tr>\n",
       "    <tr>\n",
       "      <th>25%</th>\n",
       "      <td>180.000000</td>\n",
       "    </tr>\n",
       "    <tr>\n",
       "      <th>50%</th>\n",
       "      <td>265.500000</td>\n",
       "    </tr>\n",
       "    <tr>\n",
       "      <th>75%</th>\n",
       "      <td>360.500000</td>\n",
       "    </tr>\n",
       "    <tr>\n",
       "      <th>max</th>\n",
       "      <td>622.000000</td>\n",
       "    </tr>\n",
       "  </tbody>\n",
       "</table>\n",
       "</div>"
      ],
      "text/plain": [
       "       #Passengers\n",
       "count   144.000000\n",
       "mean    280.298611\n",
       "std     119.966317\n",
       "min     104.000000\n",
       "25%     180.000000\n",
       "50%     265.500000\n",
       "75%     360.500000\n",
       "max     622.000000"
      ]
     },
     "execution_count": 7,
     "metadata": {},
     "output_type": "execute_result"
    }
   ],
   "source": [
    "# Observando algumas medidas\n",
    "df_AirPassengers.describe()"
   ]
  },
  {
   "cell_type": "markdown",
   "metadata": {},
   "source": [
    "# Criado a Série Temporal (TS)"
   ]
  },
  {
   "cell_type": "code",
   "execution_count": 8,
   "metadata": {},
   "outputs": [],
   "source": [
    "# Converte a coluna Month para Data no formato 'YYYY-MM-DD'\n",
    "df_AirPassengers.Month = pd.to_datetime(df_AirPassengers.Month)"
   ]
  },
  {
   "cell_type": "code",
   "execution_count": 9,
   "metadata": {},
   "outputs": [],
   "source": [
    "# Define o atributo Month como Index\n",
    "df_AirPassengers = df_AirPassengers.set_index('Month')"
   ]
  },
  {
   "cell_type": "code",
   "execution_count": 10,
   "metadata": {},
   "outputs": [
    {
     "data": {
      "text/plain": [
       "DatetimeIndex(['1949-01-01', '1949-02-01', '1949-03-01', '1949-04-01',\n",
       "               '1949-05-01', '1949-06-01', '1949-07-01', '1949-08-01',\n",
       "               '1949-09-01', '1949-10-01',\n",
       "               ...\n",
       "               '1960-03-01', '1960-04-01', '1960-05-01', '1960-06-01',\n",
       "               '1960-07-01', '1960-08-01', '1960-09-01', '1960-10-01',\n",
       "               '1960-11-01', '1960-12-01'],\n",
       "              dtype='datetime64[ns]', name='Month', length=144, freq=None)"
      ]
     },
     "execution_count": 10,
     "metadata": {},
     "output_type": "execute_result"
    }
   ],
   "source": [
    "# Verificando o Index\n",
    "df_AirPassengers.index"
   ]
  },
  {
   "cell_type": "code",
   "execution_count": 11,
   "metadata": {},
   "outputs": [],
   "source": [
    "# Criando um objeto Series do Pandas\n",
    "ts = df_AirPassengers['#Passengers']"
   ]
  },
  {
   "cell_type": "code",
   "execution_count": 12,
   "metadata": {},
   "outputs": [
    {
     "data": {
      "text/plain": [
       "pandas.core.series.Series"
      ]
     },
     "execution_count": 12,
     "metadata": {},
     "output_type": "execute_result"
    }
   ],
   "source": [
    "# Verificando o tipo do objeto criado\n",
    "type(ts)"
   ]
  },
  {
   "cell_type": "code",
   "execution_count": 13,
   "metadata": {},
   "outputs": [
    {
     "data": {
      "text/plain": [
       "<matplotlib.axes._subplots.AxesSubplot at 0x7f84a703c9b0>"
      ]
     },
     "execution_count": 13,
     "metadata": {},
     "output_type": "execute_result"
    },
    {
     "data": {
      "image/png": "[encoded data removed]",
      "text/plain": [
       "<Figure size 864x432 with 1 Axes>"
      ]
     },
     "metadata": {
      "needs_background": "light"
     },
     "output_type": "display_data"
    }
   ],
   "source": [
    "# Plotando a Série Temporal (TS) \n",
    "ts.plot(figsize=(12,6))"
   ]
  },
  {
   "cell_type": "code",
   "execution_count": 14,
   "metadata": {},
   "outputs": [
    {
     "data": {
      "text/plain": [
       "<matplotlib.axes._subplots.AxesSubplot at 0x7f849c30c5c0>"
      ]
     },
     "execution_count": 14,
     "metadata": {},
     "output_type": "execute_result"
    },
    {
     "data": {
      "image/png": "[encoded data removed]",
      "text/plain": [
       "<Figure size 864x432 with 1 Axes>"
      ]
     },
     "metadata": {
      "needs_background": "light"
     },
     "output_type": "display_data"
    }
   ],
   "source": [
    "# Olhando a Distribuição dos dados da Série\n",
    "ts.hist(figsize=(12,6))"
   ]
  },
  {
   "cell_type": "code",
   "execution_count": 15,
   "metadata": {},
   "outputs": [
    {
     "data": {
      "image/png": "[encoded data removed]",
      "text/plain": [
       "<Figure size 864x576 with 1 Axes>"
      ]
     },
     "metadata": {
      "needs_background": "light"
     },
     "output_type": "display_data"
    }
   ],
   "source": [
    "# Visualizado os dados agrupados por ano\n",
    "grupos = df_AirPassengers.groupby(pd.Grouper(freq='Y'))\n",
    "df_anos = pd.DataFrame()\n",
    "\n",
    "for nome, grupo in grupos:\n",
    "    df_anos[nome.year] = grupo.values.squeeze()\n",
    "df_anos.boxplot(figsize=(12,8))\n",
    "\n",
    "plt.title('Qtd Passageiros agrupados por ano')\n",
    "plt.show()"
   ]
  },
  {
   "cell_type": "code",
   "execution_count": null,
   "metadata": {},
   "outputs": [],
   "source": []
  },
  {
   "cell_type": "markdown",
   "metadata": {},
   "source": [
    "# Verificando a estacionariedade da Série Temporal (TS)\n",
    "- De modo geral podemos considerar uma TS estacionária se as suas propriedades estatísticas, tais como a média e variância permanecem constantes ao longo do tempo.\n",
    "- Para efeitos práticos neste estudo vamos assumir a série como estacionária se ela tiver as seguintes propriedades estatísticas constantes ao longo do tempo: <br>\n",
    " 1 - Uma média constante  <br>\n",
    " 2 - Uma variância constante  <br>\n",
    " 3 - Uma autocovariância que não dependa do tempo <br>\n",
    "\n",
    " \n",
    "<h4> TESTES DE ESTACIONARIEDADE</h4>\n",
    "\n",
    "- Teste de Dickey-Fuller Aumentado<br>\n",
    "- Teste de Phillips - Perron<br>\n",
    "- Teste KPSS - Kwiatkowski-Phillips-Schmidt-Shin <br>\n",
    "\n",
    "** OBS: Em um contexto geral, o ideal é aplicar os testes em conjunto para ter a certeza da estacionariedade da série."
   ]
  },
  {
   "cell_type": "code",
   "execution_count": 16,
   "metadata": {},
   "outputs": [
    {
     "name": "stdout",
     "output_type": "stream",
     "text": [
      "Results Augmented Dickey-Fuller Test\n",
      "====================================\n",
      "Test Statistic: 0.815 \n",
      "P-value: 0.992 \n",
      "Lags: 13\n",
      "-------------------------------------\n",
      "Number of observations: 130 \n",
      "Critical Values: {'1%': -3.4816817173418295, '5%': -2.8840418343195267, '10%': -2.5787700591715979}\n"
     ]
    }
   ],
   "source": [
    "# Verificando se a Série Temporal (TS) é estacionária\n",
    "# Augmented Dickey-Fuller unit root test\n",
    "# The Augmented Dickey-Fuller test can be used to test for a unit root in a univariate process in the presence of serial correlation\n",
    "# Null Hypothesis: The series has a unit root (value of a =1)\n",
    "# Alternate Hypothesis: The series has no unit root\n",
    "from statsmodels.tsa.stattools import adfuller\n",
    "adfuller_teste = adfuller(ts)\n",
    "\n",
    "adf_statistic = adfuller_teste[0] # Test statistic\n",
    "adf_pvalue = adfuller_teste[1] #  MacKinnon’s approximate p-value based on MacKinnon (1994, 2010)\n",
    "adf_usedlag = adfuller_teste[2] #  Number of lags used\n",
    "adf_nobs = adfuller_teste[3] #  Number of observations used for the ADF regression and calculation of the critical values\n",
    "adf_critical_values = adfuller_teste[4] # Critical values for the test statistic at the 1 %, 5 %, and 10 % levels. Based on MacKinnon (2010)\n",
    "adf_icbest= adfuller_teste[5] # The maximized information criterion if autolag is not None.\n",
    "\n",
    "print('Results Augmented Dickey-Fuller Test')\n",
    "print('====================================')\n",
    "print('Test Statistic: %.3f \\nP-value: %.3f \\nLags: %d' % (adf_statistic, adf_pvalue, adf_usedlag))\n",
    "print('-------------------------------------')\n",
    "print('Number of observations: %d \\nCritical Values: %s' % (adf_nobs, adf_critical_values))\n"
   ]
  },
  {
   "cell_type": "code",
   "execution_count": null,
   "metadata": {},
   "outputs": [],
   "source": []
  },
  {
   "cell_type": "code",
   "execution_count": 17,
   "metadata": {},
   "outputs": [
    {
     "name": "stdout",
     "output_type": "stream",
     "text": [
      "Results     Phillips-Perron Test (Z-tau)    \n",
      "=====================================\n",
      "Test Statistic                 -1.351\n",
      "P-value                         0.605\n",
      "Lags                               14\n",
      "-------------------------------------\n",
      "\n",
      "Trend: Constant\n",
      "Critical Values: -3.48 (1%), -2.88 (5%), -2.58 (10%)\n",
      "Null Hypothesis: The process contains a unit root.\n",
      "Alternative Hypothesis: The process is weakly stationary.\n"
     ]
    }
   ],
   "source": [
    "# Verificando se a Série Temporal (TS) é estacionária\n",
    "# Phillips-Perron Testing\n",
    "# The null hypothesis of the Phillips-Perron (PP) test is that there is a unit root, with the alternative that there is no unit root. \n",
    "# Null Hypothesis: The series has a unit root (value of a =1)\n",
    "# Alternate Hypothesis: The series has no unit root\n",
    "\n",
    "from arch.unitroot import PhillipsPerron\n",
    "pp = PhillipsPerron(ts)\n",
    "print('Results'+pp.summary().as_text())"
   ]
  },
  {
   "cell_type": "code",
   "execution_count": null,
   "metadata": {},
   "outputs": [],
   "source": []
  },
  {
   "cell_type": "code",
   "execution_count": 18,
   "metadata": {},
   "outputs": [
    {
     "name": "stdout",
     "output_type": "stream",
     "text": [
      "Results Kwiatkowski-Phillips-Schmidt-Shin test\n",
      "====================================\n",
      "Test Statistic: 1.052 \n",
      "P-value: 0.010 \n",
      "Lags: 14\n",
      "-------------------------------------\n",
      "Critical Values: {'10%': 0.347, '5%': 0.463, '2.5%': 0.574, '1%': 0.739}\n",
      "\n"
     ]
    },
    {
     "name": "stderr",
     "output_type": "stream",
     "text": [
      "/home/charles/anaconda3/lib/python3.6/site-packages/statsmodels/tsa/stattools.py:1276: InterpolationWarning: p-value is smaller than the indicated p-value\n",
      "  warn(\"p-value is smaller than the indicated p-value\", InterpolationWarning)\n"
     ]
    }
   ],
   "source": [
    "# Verificando se a Série Temporal (TS) é estacionária\n",
    "# Kwiatkowski-Phillips-Schmidt-Shin test for stationarity.\n",
    "# Computes the Kwiatkowski-Phillips-Schmidt-Shin (KPSS) test for the null hypothesis that x is level or trend stationary.\n",
    "# Null Hypothesis: The process is trend stationary.\n",
    "# Alternate Hypothesis: The series has a unit root (series is not stationary).\n",
    "\n",
    "import statsmodels.api as sm\n",
    "kpss_teste = sm.tsa.stattools.kpss(ts)\n",
    "\n",
    "kpss_statistic = kpss_teste[0] # The KPSS test statistic\n",
    "kpss_pvalue  = kpss_teste[1] # The p-value of the test. The p-value is interpolated from Table 1 in Kwiatkowski et al. (1992), and a boundary point is returned if the test statistic is outside the table of critical values, that is, if the p-value is outside the interval (0.01, 0.1).\n",
    "kpss_lags  = kpss_teste[2] # The truncation lag parameter\n",
    "kpss_critical_values  = kpss_teste[3] # The critical values at 10%, 5%, 2.5% and 1%. Based on Kwiatkowski et al. (1992).\n",
    "\n",
    "\n",
    "print('Results Kwiatkowski-Phillips-Schmidt-Shin test')\n",
    "print('====================================')\n",
    "print('Test Statistic: %.3f \\nP-value: %.3f \\nLags: %d' % (kpss_statistic, kpss_pvalue, kpss_lags))\n",
    "print('-------------------------------------')\n",
    "print('Critical Values: %s\\n' % (kpss_critical_values))\n"
   ]
  },
  {
   "cell_type": "code",
   "execution_count": 19,
   "metadata": {},
   "outputs": [],
   "source": [
    "# Cria um Array com os P-Values dos testes\n",
    "pvalue_tests = np.array([adf_pvalue, pp.pvalue, kpss_pvalue])"
   ]
  },
  {
   "cell_type": "code",
   "execution_count": 20,
   "metadata": {},
   "outputs": [
    {
     "name": "stdout",
     "output_type": "stream",
     "text": [
      "Testando a estacionariedade da Série Temporal.\n",
      "==============================================\n",
      "A Série Temporal NÃO parece ser estacionária.\n",
      "Média p-values: 0.53578\n",
      "----------------------------------------------\n",
      "Teste ADF  p-value: 0.99188\n",
      "Teste PP   p-value: 0.60546\n",
      "Teste KPSS p-value: 0.01000\n"
     ]
    }
   ],
   "source": [
    "# Calcula a média dos P-Values dos testes\n",
    "#p-value> 0,05: falha ao rejeitar a hipótese nula (H0), os dados têm raiz unitária e não são estacionários.\n",
    "#p-value <= 0.05: Rejeita a hipótese nula (H0), os dados não possuem raiz unitária e são estacionários.\n",
    "  \n",
    "media_pvalues = pvalue_tests.mean()\n",
    "\n",
    "print('Testando a estacionariedade da Série Temporal.')\n",
    "print('==============================================')\n",
    "\n",
    "if media_pvalues < 0.05:\n",
    "    print('A Série Temporal parece ser estacionária.')\n",
    "else:\n",
    "    print('A Série Temporal NÃO parece ser estacionária.')\n",
    "          \n",
    "print('Média p-values: %.5f' % media_pvalues)\n",
    "print('----------------------------------------------')\n",
    "print('Teste ADF  p-value: %.5f' % (adf_pvalue))\n",
    "print('Teste PP   p-value: %.5f' % (pp.pvalue))\n",
    "print('Teste KPSS p-value: %.5f' % (kpss_pvalue))"
   ]
  },
  {
   "cell_type": "code",
   "execution_count": null,
   "metadata": {},
   "outputs": [],
   "source": []
  },
  {
   "cell_type": "markdown",
   "metadata": {},
   "source": [
    "# Verificando os Componentes da Série Temporal (TS)"
   ]
  },
  {
   "cell_type": "code",
   "execution_count": 21,
   "metadata": {},
   "outputs": [],
   "source": [
    "from statsmodels.tsa.seasonal import seasonal_decompose"
   ]
  },
  {
   "cell_type": "code",
   "execution_count": 22,
   "metadata": {},
   "outputs": [
    {
     "data": {
      "image/png": "[encoded data removed]",
      "text/plain": [
       "<Figure size 432x288 with 4 Axes>"
      ]
     },
     "metadata": {
      "needs_background": "light"
     },
     "output_type": "display_data"
    }
   ],
   "source": [
    "# Decomposição da Série Temporal (TS)\n",
    "componentes = seasonal_decompose(ts, model='multiplicative')\n",
    "componentes.plot()\n",
    "plt.show()"
   ]
  },
  {
   "cell_type": "markdown",
   "metadata": {},
   "source": [
    "# Avaliando os Resíduos do modelo\n",
    "\n",
    "  - A média deve ser aproximadamente zero.\n",
    "  - A variância deve ser constante.\n",
    "  - Os residuos devem estar normalmente distribuídos .\n",
    "  - Os residudos NÃO devem possuir correlação. Se possuir correlação, o modelo pode ser melhorado, pois temos informações nos resíduos que podem ser utilizadas no modelo."
   ]
  },
  {
   "cell_type": "code",
   "execution_count": 23,
   "metadata": {},
   "outputs": [],
   "source": [
    "# Removendo valores N/A.\n",
    "residuos = componentes.resid.dropna()"
   ]
  },
  {
   "cell_type": "code",
   "execution_count": 24,
   "metadata": {},
   "outputs": [
    {
     "data": {
      "text/plain": [
       "0.9982356582764106"
      ]
     },
     "execution_count": 24,
     "metadata": {},
     "output_type": "execute_result"
    }
   ],
   "source": [
    "# Verificando a média dos resíduos.\n",
    "# A média deve ser aproximadamente zero.\n",
    "residuos.mean()"
   ]
  },
  {
   "cell_type": "code",
   "execution_count": 25,
   "metadata": {},
   "outputs": [
    {
     "data": {
      "text/plain": [
       "0.0011147849742650655"
      ]
     },
     "execution_count": 25,
     "metadata": {},
     "output_type": "execute_result"
    }
   ],
   "source": [
    "# Verificando a varância dos resíduos.\n",
    "# A variância deve ser constante.\n",
    "residuos.var()"
   ]
  },
  {
   "cell_type": "code",
   "execution_count": 26,
   "metadata": {},
   "outputs": [
    {
     "data": {
      "image/png": "[encoded data removed]",
      "text/plain": [
       "<Figure size 864x576 with 2 Axes>"
      ]
     },
     "metadata": {
      "needs_background": "light"
     },
     "output_type": "display_data"
    }
   ],
   "source": [
    "# Verificando a distribuição dos residuos.\n",
    "# Os residuos devem estar normalmente distribuídos.\n",
    "plt.figure(figsize=(12,8))\n",
    "plt.subplot(211)\n",
    "residuos.hist()\n",
    "\n",
    "plt.subplot(212)\n",
    "residuos.plot(kind='kde')\n",
    "plt.show()"
   ]
  },
  {
   "cell_type": "code",
   "execution_count": 27,
   "metadata": {},
   "outputs": [
    {
     "data": {
      "text/plain": [
       "<matplotlib.axes._subplots.AxesSubplot at 0x7f84812e7da0>"
      ]
     },
     "execution_count": 27,
     "metadata": {},
     "output_type": "execute_result"
    },
    {
     "data": {
      "image/png": "[encoded data removed]",
      "text/plain": [
       "<Figure size 432x288 with 1 Axes>"
      ]
     },
     "metadata": {
      "needs_background": "light"
     },
     "output_type": "display_data"
    }
   ],
   "source": [
    "# Plot dos resíduos\n",
    "# Verificando a aleatoriedade dos resíduos.\n",
    "residuos.plot()"
   ]
  },
  {
   "cell_type": "code",
   "execution_count": null,
   "metadata": {},
   "outputs": [],
   "source": []
  },
  {
   "cell_type": "markdown",
   "metadata": {},
   "source": [
    "# Teste de Normalidade Estatística dos Resíduos"
   ]
  },
  {
   "cell_type": "code",
   "execution_count": 28,
   "metadata": {},
   "outputs": [],
   "source": [
    "from scipy import stats"
   ]
  },
  {
   "cell_type": "markdown",
   "metadata": {},
   "source": [
    "- Teste de Shapiro-Wilk"
   ]
  },
  {
   "cell_type": "code",
   "execution_count": 29,
   "metadata": {},
   "outputs": [
    {
     "name": "stdout",
     "output_type": "stream",
     "text": [
      "****** Teste de Shapiro-Wilk ****** \n",
      " \n",
      "Estatísticas=0.977, p-value=0.02290\n",
      "Amostra não parece Gaussiana (Normal) (rejeitam Hipótese NULA (H0))\n"
     ]
    }
   ],
   "source": [
    "#Shapiro-Wilk Test\n",
    "# normality test\n",
    "#p <= 0.05: reject H0, not normal\n",
    "#p > 0.05: fail to reject H0, normal.\n",
    "\n",
    "print('****** Teste de Shapiro-Wilk ****** \\n ')\n",
    "stat, p = stats.shapiro(residuos)\n",
    "print('Estatísticas=%.3f, p-value=%.5f' % (stat, p))\n",
    "\n",
    "alpha = 0.05\n",
    "if p > alpha:\n",
    "    print('Amostra parece Gaussiana  (Normal) (não rejeitam Hipótese NULA (H0))')\n",
    "else:\n",
    "    print('Amostra não parece Gaussiana (Normal) (rejeitam Hipótese NULA (H0))')"
   ]
  },
  {
   "cell_type": "code",
   "execution_count": null,
   "metadata": {},
   "outputs": [],
   "source": []
  },
  {
   "cell_type": "markdown",
   "metadata": {},
   "source": [
    "- Teste de D’Agostino’s K^2"
   ]
  },
  {
   "cell_type": "code",
   "execution_count": 30,
   "metadata": {},
   "outputs": [
    {
     "name": "stdout",
     "output_type": "stream",
     "text": [
      " ****** Teste de D’Agostino’s K^2 ****** \n",
      " \n",
      "Estatísticas=4.419, p-value=0.10974\n",
      "Amostra parece Gaussiana  (Normal) (não rejeitam Hipótese NULA (H0))\n"
     ]
    }
   ],
   "source": [
    "print(' ****** Teste de D’Agostino’s K^2 ****** \\n ')\n",
    "\n",
    "stat, p = stats.normaltest(residuos)\n",
    "print('Estatísticas=%.3f, p-value=%.5f' % (stat, p))\n",
    "# interpret\n",
    "alpha = 0.05\n",
    "if p > alpha:\n",
    "    print('Amostra parece Gaussiana  (Normal) (não rejeitam Hipótese NULA (H0))')\n",
    "else:\n",
    "    print('Amostra não parece Gaussiana (Normal) (rejeitam Hipótese NULA (H0))')"
   ]
  },
  {
   "cell_type": "code",
   "execution_count": null,
   "metadata": {},
   "outputs": [],
   "source": []
  },
  {
   "cell_type": "markdown",
   "metadata": {},
   "source": [
    "- Teste de Anderson-Darling"
   ]
  },
  {
   "cell_type": "code",
   "execution_count": 31,
   "metadata": {},
   "outputs": [
    {
     "name": "stdout",
     "output_type": "stream",
     "text": [
      "****** Teste de Anderson-Darling ****** \n",
      " \n",
      "Estatística: 1.167\n",
      "Nível de Significancia: 15.000: Valor Crítico: 0.560, os dados não parecem normais (rejeitam Hipótese NULA (H0))\n",
      "Nível de Significancia: 10.000: Valor Crítico: 0.638, os dados não parecem normais (rejeitam Hipótese NULA (H0))\n",
      "Nível de Significancia: 5.000: Valor Crítico: 0.765, os dados não parecem normais (rejeitam Hipótese NULA (H0))\n",
      "Nível de Significancia: 2.500: Valor Crítico: 0.892, os dados não parecem normais (rejeitam Hipótese NULA (H0))\n",
      "Nível de Significancia: 1.000: Valor Crítico: 1.061, os dados não parecem normais (rejeitam Hipótese NULA (H0))\n"
     ]
    }
   ],
   "source": [
    "print('****** Teste de Anderson-Darling ****** \\n ')\n",
    "\n",
    "result = stats.anderson(residuos)\n",
    "\n",
    "print('Estatística: %.3f' % result.statistic)\n",
    "p = 0\n",
    "\n",
    "for i in range(len(result.critical_values)):\n",
    "    \n",
    "    sl, cv = result.significance_level[i], result.critical_values[i]\n",
    "\n",
    "    if result.statistic < result.critical_values[i]:\n",
    "            print('Nível de Significancia: %.3f: Valor Crítico: %.3f, os dados parecem normais (não rejeitam Hipótese NULA (H0))' % (sl, cv))\n",
    "    else:\n",
    "            print('Nível de Significancia: %.3f: Valor Crítico: %.3f, os dados não parecem normais (rejeitam Hipótese NULA (H0))' % (sl, cv))\n"
   ]
  },
  {
   "cell_type": "code",
   "execution_count": null,
   "metadata": {},
   "outputs": [],
   "source": []
  },
  {
   "cell_type": "markdown",
   "metadata": {},
   "source": [
    "# Autocorrelação dos Resíduos"
   ]
  },
  {
   "cell_type": "code",
   "execution_count": 32,
   "metadata": {},
   "outputs": [],
   "source": [
    "from statsmodels.graphics.api import qqplot\n"
   ]
  },
  {
   "cell_type": "code",
   "execution_count": 33,
   "metadata": {},
   "outputs": [
    {
     "data": {
      "image/png": "[encoded data removed]",
      "text/plain": [
       "<Figure size 864x576 with 2 Axes>"
      ]
     },
     "metadata": {
      "needs_background": "light"
     },
     "output_type": "display_data"
    }
   ],
   "source": [
    "# Verificando a autocorrelação  dos Resíduos- ACF (autocorrelation Function) \n",
    "\n",
    "lags = 12\n",
    "\n",
    "fig = plt.figure(figsize=(12,8))\n",
    "ax1 = fig.add_subplot(211)\n",
    "fig = sm.graphics.tsa.plot_acf(residuos.values.squeeze(), lags=lags, ax=ax1)\n",
    "\n",
    "# Verificando a autocorrelação - PACF (partial autocorrelation Function) \n",
    "ax2 = fig.add_subplot(212)\n",
    "fig = sm.graphics.tsa.plot_pacf(residuos, lags=lags, ax=ax2)"
   ]
  },
  {
   "cell_type": "code",
   "execution_count": 34,
   "metadata": {},
   "outputs": [],
   "source": [
    "# Verificando a existência de autocorrelação dos Resíduos\n",
    "# Teste de Ljung-Box para autocorrelação\n",
    "# p <= 0.05: rejeita a H0, não possui autocorrelação\n",
    "# p > 0.05: falha em rejeitar a H0, possui autocorrelação\n",
    "\n",
    "ljungbox_teste = sm.stats.diagnostic.acorr_ljungbox(residuos, lags=12, boxpierce=False)\n",
    "\n",
    "lbvalue = ljungbox_teste[0] #test statistic\n",
    "pvalue = ljungbox_teste[1] #p-value based on chi-square distribution"
   ]
  },
  {
   "cell_type": "code",
   "execution_count": 35,
   "metadata": {},
   "outputs": [
    {
     "data": {
      "text/plain": [
       "array([ 21.97018872,  23.6531364 ,  28.20483799,  42.26139715,\n",
       "        51.15296121,  58.71350554,  67.69233905,  73.12564753,\n",
       "        73.12571292,  73.66884306,  79.34507181,  92.07591559])"
      ]
     },
     "execution_count": 35,
     "metadata": {},
     "output_type": "execute_result"
    }
   ],
   "source": [
    "# statistic\n",
    "lbvalue"
   ]
  },
  {
   "cell_type": "code",
   "execution_count": 36,
   "metadata": {},
   "outputs": [
    {
     "data": {
      "text/plain": [
       "array([  2.76918505e-06,   7.30780065e-06,   3.28965865e-06,\n",
       "         1.47247976e-08,   8.04661843e-10,   8.21251010e-11,\n",
       "         4.31800512e-12,   1.16957915e-12,   3.70121986e-12,\n",
       "         8.63442633e-12,   1.97508513e-12,   1.95467958e-14])"
      ]
     },
     "execution_count": 36,
     "metadata": {},
     "output_type": "execute_result"
    }
   ],
   "source": [
    "# pvalue\n",
    "pvalue"
   ]
  },
  {
   "cell_type": "code",
   "execution_count": null,
   "metadata": {},
   "outputs": [],
   "source": []
  },
  {
   "cell_type": "code",
   "execution_count": null,
   "metadata": {},
   "outputs": [],
   "source": []
  }
 ],
 "metadata": {
  "kernelspec": {
   "display_name": "Python 3",
   "language": "python",
   "name": "python3"
  },
  "language_info": {
   "codemirror_mode": {
    "name": "ipython",
    "version": 3
   },
   "file_extension": ".py",
   "mimetype": "text/x-python",
   "name": "python",
   "nbconvert_exporter": "python",
   "pygments_lexer": "ipython3",
   "version": "3.6.8"
  }
 },
 "nbformat": 4,
 "nbformat_minor": 2
}
